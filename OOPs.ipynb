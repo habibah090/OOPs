{
  "nbformat": 4,
  "nbformat_minor": 0,
  "metadata": {
    "colab": {
      "provenance": []
    },
    "kernelspec": {
      "name": "python3",
      "display_name": "Python 3"
    },
    "language_info": {
      "name": "python"
    }
  },
  "cells": [
    {
      "cell_type": "markdown",
      "source": [
        "OOPs theory questions"
      ],
      "metadata": {
        "id": "U7ZmiWHIP6jc"
      }
    },
    {
      "cell_type": "markdown",
      "source": [
        "1. What is Object-Oriented Programming (OOP)?\n",
        "- Object-oriented programming (OOP) is a programming paradigm that uses \"objects\" to design computer programs. These objects contain data (attributes) and methods (functions) that operate on that data, promoting modularity, reusability, and easier maintenance of code.\n",
        "\n",
        "2. What is a class in OOP?\n",
        "- In object-oriented programming (OOP), a class is a blueprint or template for creating objects. It defines the structure and behavior (attributes and methods) that its objects will have. Think of it as a user-defined data type. Classes encapsulate data (attributes/properties) and the operations (methods/functions) that can be performed on that data.\n",
        "\n",
        "3. What is an object in OOP?\n",
        "- In object-oriented programming (OOP), a class is a blueprint or template for creating objects. It defines the structure and behavior (attributes and methods) that its objects will have. Think of it as a user-defined data type. Classes encapsulate data (attributes/properties) and the operations (methods/functions) that can be performed on that data\n",
        "\n",
        "4. What is the difference between abstraction and encapsulation?\n",
        "- Abstraction focuses on what an object does, while encapsulation focuses on how it does it. Abstraction hides unnecessary details and complexity by exposing only essential information, while encapsulation bundles data and methods that operate on that data within a single unit, also known as a class, and controls access to that data.\n",
        "\n",
        "5. What are dunder methods in Python?\n",
        "- Dunder methods, also known as magic methods or special methods, are a core feature of Python's object model. They are distinguished by their names, which begin and end with double underscores (e.g., __init__, __str__, __add__).\n",
        "\n",
        "6. Explain the concept of inheritance in OOP?\n",
        "- Inheritance in object-oriented programming (OOP) is a mechanism where a new class (the subclass or child class) is created based on an existing class (the superclass or parent class), inheriting its attributes and methods. This promotes code reusability and allows for creating a hierarchy of classes with shared functionality. Essentially, the subclass gets a \"head start\" by inheriting what the superclass has, and can also add its own unique characteristics.\n",
        "\n",
        "7.  What is polymorphism in OOP?\n",
        "- Polymorphism in object-oriented programming (OOP) refers to the ability of an object to take on many forms. It allows you to interact with objects of different classes using a single, unified interface. Essentially, it enables a single function or method to operate on different data types or classes, providing flexibility and code reusability.\n",
        "\n",
        "8.  How is encapsulation achieved in Python?\n",
        "- Encapsulation in Python, a core principle of Object-Oriented Programming (OOP), focuses on bundling data (attributes) and the methods that operate on that data within a single unit, typically a class. It also aims to restrict direct access to some of the object's components, promoting data integrity and controlled interaction.\n",
        "\n",
        "9.  What is a constructor in Python?\n",
        "- In Python, a constructor is a special method used to initialize new objects of a class. Unlike some other programming languages where constructors have the same name as the class, in Python, the constructor is defined by the special method __init__().\n",
        "\n",
        "10.\n",
        "- In Python, class and static methods are distinct types of methods defined within a class, differing in their binding and access to class or instance data.\n",
        "\n",
        "- Class Methods:\n",
        "\n",
        "Binding: Bound to the class, not an instance of the class.\n",
        "\n",
        "Decorator: Declared using the @classmethod decorator.\n",
        "\n",
        "First Argument: Automatically receive the class itself as their first argument, conventionally named cls.\n",
        "\n",
        "Access: Can access and modify class-level attributes and call other class methods. They cannot directly access or modify instance-specific attributes.\n",
        "\n",
        "Use Cases: Often used for alternative constructors (factory methods) or operations that affect the class state as a whole.\n",
        "\n",
        "- Static Methods:\n",
        "\n",
        "Binding: Not bound to either the class or an instance. They behave like regular functions but are logically grouped within a class.\n",
        "\n",
        "Decorator: Declared using the @staticmethod decorator.\n",
        "\n",
        "First Argument: Do not receive any implicit first argument (like self for instance methods or cls for class methods). They take only the arguments explicitly passed to them.\n",
        "\n",
        "Access: Cannot access or modify class-level or instance-level attributes.\n",
        "\n",
        "Use Cases: Ideal for utility functions that are related to the class but do not depend on the class's state or any instance's state. They simply encapsulate functionality within the class's namespace.\n",
        "\n",
        "11. What is method overloading in Python?\n",
        "- Method overloading in Python refers to the ability to define multiple methods within a single class that share the same name but can handle different parameters. Unlike some other object-oriented programming languages like Java or C++, Python does not directly support method overloading by allowing multiple method definitions with identical names and varying parameter lists. Instead, Python achieves the effect of method overloading through flexible argument handling mechanisms.\n",
        "\n",
        "12. What is method overriding in OOP?\n",
        "- Method overriding in object-oriented programming is when a subclass provides a specific implementation of a method that is already defined in its superclass. This allows the subclass to customize the behavior of the method without altering the original implementation in the superclass. In essence, it provides a way for a subclass to \"replace\" or \"override\" a method inherited from its parent class.\n",
        "\n",
        "13. What is a property decorator in Python?\n",
        "- The @property decorator in Python is a built-in decorator that transforms a method within a class into a \"property,\" allowing it to be accessed like an attribute while still encapsulating underlying logic. It provides a clean and controlled way to manage attribute access, modification, and deletion.\n",
        "\n",
        "14. Why is polymorphism important in OOP?\n",
        "- Polymorphism is crucial in Object-Oriented Programming (OOP) because it enables code reusability, flexibility, and extensibility. It allows objects of different classes to be treated as objects of a common type, promoting a more generic and adaptable programming style. This, in turn, leads to simpler, more maintainable, and more modular code.\n",
        "\n",
        "15. What is an abstract class in Python?\n",
        "- In Python, an abstract class is a class that cannot be instantiated directly and serves as a blueprint or template for other classes. It is designed to be inherited by subclasses, which are then required to provide implementations for any abstract methods defined within the abstract class.\n",
        "\n",
        "16. What are the advantages of OOP?\n",
        "- Object-Oriented Programming (OOP) offers several advantages, including improved code organization, reusability, flexibility, and maintainability. OOP promotes modularity through encapsulation, allowing for easier code management and modification. It also enables code reuse via inheritance and polymorphism, reducing development time and effort. Furthermore, OOP simplifies complex systems and facilitates easier troubleshooting due to its structured approach.\n",
        "\n",
        "17. What is the difference between a class variable and an instance variable?\n",
        "- Class variables and instance variables differ in their scope and how they are shared among class instances. Class variables are associated with the class itself and are shared by all instances of that class, while instance variables are specific to each individual object (instance) of the class.\n",
        "\n",
        "18. What is multiple inheritance in Python?\n",
        "- Multiple inheritance in Python is a feature of object-oriented programming where a class can inherit attributes and methods from more than one parent class. This allows a child class to combine functionalities and characteristics from multiple sources.\n",
        "\n",
        "19. Explain the purpose of ‘’__str__’ and ‘__repr__’ ‘ methods in Python\n",
        "- In Python, the __str__ and __repr__ methods are special (or \"magic\") methods that define how objects of a class are represented as strings. They are used for different purposes:\n",
        "\n",
        " __str__ – User-Friendly String Representation\n",
        "Purpose: To return a readable, user-friendly string representation of an object.\n",
        "\n",
        "Used by: The built-in str() function and the print() function.\n",
        "\n",
        "Goal: Make the output easy to read for end users.\n",
        "\n",
        " __repr__ – Unambiguous Developer Representation\n",
        "Purpose: To return an unambiguous string that could be used to recreate the object (ideally).\n",
        "\n",
        "Used by: The built-in repr() function, and the interactive prompt (>>> p)\n",
        "\n",
        "Goal: Help developers understand what the object is.\n",
        "\n",
        "20. What is the significance of the ‘super()’ function in Python?\n",
        "- The super() function in Python holds significant importance in the context of object-oriented programming, particularly concerning inheritance. Its primary significance lies in enabling access to methods and properties of a parent or sibling class from within a child or subclass.\n",
        "\n",
        "21. What is the significance of the __del__ method in Python?\n",
        "- The __del__ method in Python, also known as a finalizer or destructor, holds significance in object-oriented programming for resource cleanup.\n",
        "\n",
        "Significance of __del__:\n",
        "\n",
        "- Resource Management:\n",
        "\n",
        "Its primary purpose is to define actions that should be taken when an object is about to be garbage collected and removed from memory. This includes releasing external resources like closing file handles, network connections, or releasing locks that the object might have acquired during its lifetime.\n",
        "\n",
        "- Preventing Resource Leaks:\n",
        "\n",
        "By ensuring that resources are properly deallocated, __del__ helps prevent resource leaks, which can lead to performance degradation or system instability over time.\n",
        "\n",
        "- Enhancing Robustness:\n",
        "\n",
        "It contributes to the overall robustness of an application by providing a mechanism for controlled cleanup, even if an object is no longer explicitly referenced in the code.\n",
        "\n",
        "Important Considerations:\n",
        "\n",
        "- Garbage Collection:\n",
        "\n",
        "__del__ is called by the garbage collector when an object is no longer referenced and is being deallocated. This means its execution time is not strictly deterministic and depends on the garbage collection cycle.\n",
        "\n",
        "- Unpredictable Execution:\n",
        "\n",
        "Due to the nature of garbage collection, relying on __del__ for critical cleanup operations can be problematic, as the order and timing of execution are not guaranteed.\n",
        "\n",
        "- Alternatives:\n",
        "\n",
        "For more predictable and reliable resource management, especially with external resources, it is generally recommended to use context managers (with with statements) or explicit cleanup methods rather than solely relying on __del__.\n",
        "\n",
        "22. What is the difference between @staticmethod and @classmethod in Python?\n",
        "- The @staticmethod and @classmethod decorators in Python define different types of methods within a class, primarily distinguished by their access to instance and class state:\n",
        "\n",
        "- @classmethod:\n",
        "\n",
        "- Bound to the Class:\n",
        "\n",
        "A class method is bound to the class itself, not to a specific instance of the class.\n",
        "\n",
        "- First Argument cls:\n",
        "\n",
        "It takes the class object (cls) as its first argument, allowing it to access and modify class-level attributes and call other class methods.\n",
        "\n",
        "- Use Cases:\n",
        "\n",
        "Often used for \"factory methods\" that create instances of the class with specific initializations, or for methods that operate on class-level data or state.\n",
        "\n",
        "- @staticmethod:\n",
        "\n",
        "- Not Bound to Instance or Class:\n",
        "\n",
        "A static method is not bound to either the instance or the class. It does not receive self or cls as its first argument.\n",
        "\n",
        "- behaves like a Regular Function:\n",
        "\n",
        "It behaves essentially like a regular function, but is logically grouped within a class for organizational purposes.\n",
        "\n",
        "- Use Cases:\n",
        "\n",
        "Ideal for utility functions that perform a task related to the class but do not require access to instance-specific data or class-level state.\n",
        "\n",
        "23. How does polymorphism work in Python with inheritance?\n",
        "- Polymorphism in Python, especially with inheritance, allows objects of different classes to be treated as if they are instances of the same class, as long as they share a common interface (typically through method names).\n",
        "\n",
        "How it works with Inheritance in Python:\n",
        "\n",
        "When a base class defines a method, and derived (child) classes override that method, you can call the same method on different objects and get class-specific behavior.\n",
        "\n",
        "24. What is method chaining in Python OOP?\n",
        "- Method chaining in Python OOP is a programming technique that allows multiple method calls to be invoked sequentially on the same object in a single expression. This is achieved by having each method return the object itself (or a modified version of it) after performing its operation.\n",
        "\n",
        "25. What is the purpose of the __call__ method in Python?\n",
        "- The purpose of the __call__ method in Python is to make instances of a class callable, meaning they can be invoked like functions.\n",
        "\n",
        "When a class defines a __call__ method, an object created from that class can be \"called\" directly using parentheses, similar to how a function is called. For example, if obj is an instance of a class that defines __call__, then obj() or obj(arg1, arg2) will execute the code within the __call__ method of that object."
      ],
      "metadata": {
        "id": "3WZYDtGFQimP"
      }
    },
    {
      "cell_type": "markdown",
      "source": [
        "practical questions"
      ],
      "metadata": {
        "id": "XXTjCs5RhweC"
      }
    },
    {
      "cell_type": "code",
      "source": [
        "## 1.  Create a parent class Animal with a method speak() that prints a generic message. Create a child class Dog that overrides the speak() method to print \"Bark!\".\n",
        "\n",
        "class animal:\n",
        "  def speak(self):\n",
        "    print(\"generic animal sound\")\n",
        "\n",
        "class dog(animal):\n",
        "  def speak(self):\n",
        "    print(\"bark\")\n",
        "\n",
        "d = dog()\n",
        "d.speak()\n",
        "\n",
        "\n"
      ],
      "metadata": {
        "colab": {
          "base_uri": "https://localhost:8080/"
        },
        "id": "cM6fUg2Phv78",
        "outputId": "3dfbabb6-80f7-4a5a-e2ce-de5b73f01e00"
      },
      "execution_count": null,
      "outputs": [
        {
          "output_type": "stream",
          "name": "stdout",
          "text": [
            "bark\n"
          ]
        }
      ]
    },
    {
      "cell_type": "code",
      "source": [
        "## 2. Write a program to create an abstract class Shape with a method area(). Derive classes Circle and Rectangle from it and implement the area() method in both.\n",
        "\n",
        "from abc import ABC, abstractmethod\n",
        "import math\n",
        "\n",
        "# Abstract base class\n",
        "class Shape(ABC):\n",
        "\n",
        "    @abstractmethod\n",
        "    def area(self):\n",
        "        pass\n",
        "\n",
        "# Circle class inheriting from Shape\n",
        "class Circle(Shape):\n",
        "    def __init__(self, radius):\n",
        "        self.radius = radius\n",
        "\n",
        "    def area(self):\n",
        "        return math.pi * self.radius ** 2\n",
        "\n",
        "# Rectangle class inheriting from Shape\n",
        "class Rectangle(Shape):\n",
        "    def __init__(self, width, height):\n",
        "        self.width = width\n",
        "        self.height = height\n",
        "\n",
        "    def area(self):\n",
        "        return self.width * self.height\n",
        "\n",
        "# Create objects and display areas\n",
        "def main():\n",
        "    circle = Circle(7)\n",
        "    rectangle = Rectangle(5, 10)\n",
        "\n",
        "    print(f\"Circle area: {circle.area():.2f}\")\n",
        "    print(f\"Rectangle area: {rectangle.area():.2f}\")\n",
        "\n",
        "if __name__ == \"__main__\":\n",
        "    main()\n",
        "\n",
        "\n"
      ],
      "metadata": {
        "colab": {
          "base_uri": "https://localhost:8080/"
        },
        "id": "vkS7t6jmkCdS",
        "outputId": "fc683f18-115d-4efe-ef05-f44966494624"
      },
      "execution_count": null,
      "outputs": [
        {
          "output_type": "stream",
          "name": "stdout",
          "text": [
            "Circle area: 153.94\n",
            "Rectangle area: 50.00\n"
          ]
        }
      ]
    },
    {
      "cell_type": "code",
      "source": [
        "## 3  Implement a multi-level inheritance scenario where a class Vehicle has an attribute type. Derive a class Car and further derive a class ElectricCar that adds a battery attribute.\n",
        "\n",
        "# Base class\n",
        "class Vehicle:\n",
        "    def __init__(self, vehicle_type):\n",
        "        self.type = vehicle_type\n",
        "\n",
        "    def display_info(self):\n",
        "        return f\"Vehicle Type: {self.type}\"\n",
        "\n",
        "# First level derived class\n",
        "class Car(Vehicle):\n",
        "    def __init__(self, vehicle_type, brand, model):\n",
        "        super().__init__(vehicle_type)\n",
        "        self.brand = brand\n",
        "        self.model = model\n",
        "\n",
        "    def display_info(self):\n",
        "        return f\"{super().display_info()}, Brand: {self.brand}, Model: {self.model}\"\n",
        "\n",
        "# Second level derived class\n",
        "class ElectricCar(Car):\n",
        "    def __init__(self, vehicle_type, brand, model, battery_capacity):\n",
        "        super().__init__(vehicle_type, brand, model)\n",
        "        self.battery = battery_capacity  # in kWh\n",
        "\n",
        "    def display_info(self):\n",
        "        return f\"{super().display_info()}, Battery Capacity: {self.battery} kWh\"\n",
        "\n",
        "# Testing the multi-level inheritance\n",
        "def main():\n",
        "    my_electric_car = ElectricCar(\"Car\", \"Tesla\", \"Model S\", 100)\n",
        "    print(my_electric_car.display_info())\n",
        "\n",
        "if __name__ == \"__main__\":\n",
        "    main()\n"
      ],
      "metadata": {
        "colab": {
          "base_uri": "https://localhost:8080/"
        },
        "id": "cng6vBGzpMUA",
        "outputId": "0d5b1c10-764b-4500-b7ff-5986e4f5e43a"
      },
      "execution_count": null,
      "outputs": [
        {
          "output_type": "stream",
          "name": "stdout",
          "text": [
            "Vehicle Type: Car, Brand: Tesla, Model: Model S, Battery Capacity: 100 kWh\n"
          ]
        }
      ]
    },
    {
      "cell_type": "code",
      "source": [
        "## 4.  Demonstrate polymorphism by creating a base class Bird with a method fly(). Create two derived classes Sparrow and Penguin that override the fly() method.\n",
        "\n",
        "class Bird:\n",
        "    def fly(self):\n",
        "        return \"Flapping wings\"\n",
        "\n",
        "class Sparrow(Bird):\n",
        "    def fly(self):\n",
        "        return \"Sparrow is flying high\"\n",
        "\n",
        "class Penguin(Bird):\n",
        "    def fly(self):\n",
        "        return \"Penguin can't fly, waddling instead\"\n",
        "\n",
        "# Example usage\n",
        "bird = Bird()\n",
        "sparrow = Sparrow()\n",
        "penguin = Penguin()\n",
        "\n",
        "print(bird.fly())\n",
        "print(sparrow.fly())\n",
        "print(penguin.fly())\n"
      ],
      "metadata": {
        "colab": {
          "base_uri": "https://localhost:8080/"
        },
        "id": "c6ZzR51iqMfZ",
        "outputId": "b933f4a0-ed00-4ee4-eb2b-00bbd080f75c"
      },
      "execution_count": null,
      "outputs": [
        {
          "output_type": "stream",
          "name": "stdout",
          "text": [
            "Flapping wings\n",
            "Sparrow is flying high\n",
            "Penguin can't fly, waddling instead\n"
          ]
        }
      ]
    },
    {
      "cell_type": "code",
      "source": [
        "## 5.  Write a program to demonstrate encapsulation by creating a class BankAccount with private attributes balance and methods to deposit, withdraw, and check balance.\n",
        "\n",
        "class BankAccount:\n",
        "    \"\"\"\n",
        "    A class to represent a bank account with encapsulation.\n",
        "    \"\"\"\n",
        "    def __init__(self, initial_balance=0):\n",
        "        \"\"\"\n",
        "        Initializes the BankAccount with a private balance.\n",
        "        \"\"\"\n",
        "        self.__balance = initial_balance  # Private attribute\n",
        "\n",
        "    def deposit(self, amount):\n",
        "        \"\"\"\n",
        "        Deposits money into the account.\n",
        "        \"\"\"\n",
        "        if amount > 0:\n",
        "            self.__balance += amount\n",
        "            print(f\"Deposited: ${amount:.2f}\")\n",
        "        else:\n",
        "            print(\"Deposit amount must be positive.\")\n",
        "\n",
        "    def withdraw(self, amount):\n",
        "        \"\"\"\n",
        "        Withdraws money from the account.\n",
        "        \"\"\"\n",
        "        if amount > 0:\n",
        "            if amount <= self.__balance:\n",
        "                self.__balance -= amount\n",
        "                print(f\"Withdrew: ${amount:.2f}\")\n",
        "            else:\n",
        "                print(\"Insufficient funds.\")\n",
        "        else:\n",
        "            print(\"Withdrawal amount must be positive.\")\n",
        "\n",
        "    def get_balance(self):\n",
        "        \"\"\"\n",
        "        Returns the current balance.\n",
        "        \"\"\"\n",
        "        return self.__balance\n",
        "\n",
        "    def __str__(self):\n",
        "        return f\"Account Balance: ${self.__balance:.2f}\"\n",
        "\n",
        "# Example usage:\n",
        "account = BankAccount(100)\n",
        "print(account)\n",
        "\n",
        "account.deposit(50)\n",
        "print(account)\n",
        "\n",
        "account.withdraw(20)\n",
        "print(account)\n",
        "\n",
        "account.withdraw(200)  # Should print \"Insufficient funds.\"\n",
        "print(account)\n",
        "\n",
        "# Attempting to access the private balance directly will result in an AttributeError\n",
        "# print(account.__balance)  # This line will cause an error"
      ],
      "metadata": {
        "id": "uC-t2q_Iueej",
        "colab": {
          "base_uri": "https://localhost:8080/"
        },
        "outputId": "70e111ea-13a7-48f6-dc37-c40a64ef0b95"
      },
      "execution_count": 1,
      "outputs": [
        {
          "output_type": "stream",
          "name": "stdout",
          "text": [
            "Account Balance: $100.00\n",
            "Deposited: $50.00\n",
            "Account Balance: $150.00\n",
            "Withdrew: $20.00\n",
            "Account Balance: $130.00\n",
            "Insufficient funds.\n",
            "Account Balance: $130.00\n"
          ]
        }
      ]
    },
    {
      "cell_type": "code",
      "source": [
        "## 6. Demonstrate runtime polymorphism using a method play() in a base class Instrument. Derive classes Guitar and Piano that implement their own version of play()\n",
        "\n",
        "class Instrument:\n",
        "    def play(self):\n",
        "        print(\"Playing an instrument.\")\n",
        "\n",
        "class Guitar(Instrument):\n",
        "    def play(self):\n",
        "        print(\"Strumming the guitar 🎸\")\n",
        "\n",
        "class Piano(Instrument):\n",
        "    def play(self):\n",
        "        print(\"Playing the piano 🎹\")\n",
        "\n",
        "# Function that demonstrates runtime polymorphism\n",
        "def start_playing(instrument: Instrument):\n",
        "    instrument.play()\n",
        "\n",
        "# Create objects of derived classes\n",
        "g = Guitar()\n",
        "p = Piano()\n",
        "\n",
        "# Call play() method using base class reference\n",
        "start_playing(g)  # Output: Strumming the guitar 🎸\n",
        "start_playing(p)  # Output: Playing the piano 🎹\n",
        "\n",
        "\n",
        "\n"
      ],
      "metadata": {
        "colab": {
          "base_uri": "https://localhost:8080/"
        },
        "id": "dehFi4PFMAD1",
        "outputId": "1238e7bb-d3bf-45a9-ec54-729504e86f9f"
      },
      "execution_count": 5,
      "outputs": [
        {
          "output_type": "stream",
          "name": "stdout",
          "text": [
            "Strumming the guitar 🎸\n",
            "Playing the piano 🎹\n"
          ]
        }
      ]
    },
    {
      "cell_type": "code",
      "source": [
        "## 7. Create a class MathOperations with a class method add_numbers() to add two numbers and a static method subtract_numbers() to subtract two numbers.\n",
        "\n",
        "class MathOperations:\n",
        "    @classmethod\n",
        "    def add_numbers(cls, a, b):\n",
        "        return a + b\n",
        "\n",
        "    @staticmethod\n",
        "    def subtract_numbers(a, b):\n",
        "        return a - b\n",
        "\n",
        "\n",
        "# Example usage\n",
        "sum_result = MathOperations.add_numbers(10, 5)\n",
        "print(f\"Sum: {sum_result}\")  # Output: Sum: 15\n",
        "\n",
        "difference = MathOperations.subtract_numbers(10, 5)\n",
        "print(f\"Difference: {difference}\")  # Output: Difference: 5\n",
        "\n",
        "\n"
      ],
      "metadata": {
        "colab": {
          "base_uri": "https://localhost:8080/"
        },
        "id": "aa4_veLrPEi2",
        "outputId": "a31d80cd-c3ab-4c3f-9f36-d32a271986a8"
      },
      "execution_count": 6,
      "outputs": [
        {
          "output_type": "stream",
          "name": "stdout",
          "text": [
            "Sum: 15\n",
            "Difference: 5\n"
          ]
        }
      ]
    },
    {
      "cell_type": "code",
      "source": [
        "## 8. . Implement a class Person with a class method to count the total number of persons created.\n",
        "\n",
        "class Person:\n",
        "    _person_count = 0\n",
        "\n",
        "    def __init__(self, name):\n",
        "        self.name = name\n",
        "        Person._person_count += 1\n",
        "\n",
        "    @classmethod\n",
        "    def get_total_persons(cls):\n",
        "        return cls._person_count\n",
        "\n",
        "# Example usage\n",
        "person1 = Person(\"Alice\")\n",
        "person2 = Person(\"Bob\")\n",
        "person3 = Person(\"Charlie\")\n",
        "\n",
        "print(f\"Total persons created: {Person.get_total_persons()}\")  # Output: Total persons created: 3"
      ],
      "metadata": {
        "colab": {
          "base_uri": "https://localhost:8080/"
        },
        "id": "zdoKd8__P-Az",
        "outputId": "4c6181ba-7682-478d-cd63-723058478e4a"
      },
      "execution_count": 7,
      "outputs": [
        {
          "output_type": "stream",
          "name": "stdout",
          "text": [
            "Total persons created: 3\n"
          ]
        }
      ]
    },
    {
      "cell_type": "code",
      "source": [
        "## 9. :Write a class Fraction with attributes numerator and denominator. Override the str method to display the fraction as \"numerator/denominator\".\n",
        "\n",
        "class Fraction:\n",
        "    def __init__(self, numerator, denominator):\n",
        "        if denominator == 0:\n",
        "            raise ValueError(\"Denominator cannot be zero.\")\n",
        "        self.numerator = numerator\n",
        "        self.denominator = denominator\n",
        "\n",
        "    def __str__(self):\n",
        "        return f\"{self.numerator}/{self.denominator}\"\n",
        "\n",
        "\n",
        "# Example usage\n",
        "f1 = Fraction(3, 4)\n",
        "f2 = Fraction(5, 8)\n",
        "\n",
        "print(f\"Fraction 1: {f1}\")  # Output: Fraction 1: 3/4\n",
        "print(f\"Fraction 2: {f2}\")  # Output: Fraction 2: 5/8\n"
      ],
      "metadata": {
        "colab": {
          "base_uri": "https://localhost:8080/"
        },
        "id": "_2oWxPT0RNs4",
        "outputId": "a624ce1c-cef8-4ec5-d195-261cc2ec393d"
      },
      "execution_count": 11,
      "outputs": [
        {
          "output_type": "stream",
          "name": "stdout",
          "text": [
            "Fraction 1: 3/4\n",
            "Fraction 2: 5/8\n"
          ]
        }
      ]
    },
    {
      "cell_type": "code",
      "source": [
        "## 10.  Demonstrate operator overloading by creating a class Vector and overriding the add method to add two vectors.\n",
        "\n",
        "class Vector:\n",
        "    def __init__(self, x, y):\n",
        "        self.x = x\n",
        "        self.y = y\n",
        "\n",
        "    def __add__(self, other):\n",
        "        if isinstance(other, Vector):\n",
        "            return Vector(self.x + other.x, self.y + other.y)\n",
        "        return NotImplemented\n",
        "\n",
        "    def __str__(self):\n",
        "        return f\"Vector({self.x}, {self.y})\"\n",
        "\n",
        "\n",
        "# Example usage\n",
        "v1 = Vector(2, 3)\n",
        "v2 = Vector(4, 5)\n",
        "\n",
        "v3 = v1 + v2  # Uses overloaded __add__\n",
        "print(f\"v1 + v2 = {v3}\")  # Output: v1 + v2 = Vector(6, 8)\n"
      ],
      "metadata": {
        "colab": {
          "base_uri": "https://localhost:8080/"
        },
        "id": "jqKOdcJfRlnq",
        "outputId": "eb179d75-bdf4-49c2-9204-f0f6c016a2fb"
      },
      "execution_count": 12,
      "outputs": [
        {
          "output_type": "stream",
          "name": "stdout",
          "text": [
            "v1 + v2 = Vector(6, 8)\n"
          ]
        }
      ]
    },
    {
      "cell_type": "markdown",
      "source": [],
      "metadata": {
        "id": "wcR_h9MlUCM4"
      }
    },
    {
      "cell_type": "code",
      "source": [
        "## 11.  Create a class Person with attributes name and age. Add a method greet() that prints \"Hello, my name is {name} and I am {age} years old.\n",
        "\n",
        "class Person:\n",
        "    def __init__(self, name, age):\n",
        "        self.name = name\n",
        "        self.age = age\n",
        "\n",
        "    def greet(self):\n",
        "        print(f\"Hello, my name is {self.name} and I am {self.age} years old.\")\n",
        "\n",
        "\n",
        "# Example usage\n",
        "person1 = Person(\"Alice\", 25)\n",
        "person2 = Person(\"Bob\", 30)\n",
        "\n",
        "person1.greet()  # Output: Hello, my name is Alice and I am 25 years old.\n",
        "person2.greet()  # Output: Hello, my name is Bob and I am 30 years old.\n",
        "\n",
        "\n",
        "\n"
      ],
      "metadata": {
        "colab": {
          "base_uri": "https://localhost:8080/"
        },
        "id": "17r6x-rPS5Qe",
        "outputId": "eb72e373-e338-4a40-d58b-784b0c801220"
      },
      "execution_count": 15,
      "outputs": [
        {
          "output_type": "stream",
          "name": "stdout",
          "text": [
            "Hello, my name is Alice and I am 25 years old.\n",
            "Hello, my name is Bob and I am 30 years old.\n"
          ]
        }
      ]
    },
    {
      "cell_type": "markdown",
      "source": [],
      "metadata": {
        "id": "Ca2EcJcIUkpc"
      }
    },
    {
      "cell_type": "code",
      "source": [
        "## 12. . Implement a class Student with attributes name and grades. Create a method average_grade() to computer the average of the grades.\n",
        "\n",
        "\n",
        "\n",
        "class Student:\n",
        "    def __init__(self, name, grades):\n",
        "        self.name = name\n",
        "        self.grades = grades  # List of numeric grades\n",
        "\n",
        "    def average_grade(self):\n",
        "        if not self.grades:\n",
        "            return 0  # Avoid division by zero if no grades\n",
        "        return sum(self.grades) / len(self.grades)\n",
        "\n",
        "\n",
        "# Example usage\n",
        "student1 = Student(\"John\", [80, 90, 85])\n",
        "student2 = Student(\"Emma\", [75, 88, 92, 95])\n",
        "\n",
        "print(f\"{student1.name}'s average grade: {student1.average_grade():.2f}\")\n",
        "print(f\"{student2.name}'s average grade: {student2.average_grade():.2f}\")\n"
      ],
      "metadata": {
        "colab": {
          "base_uri": "https://localhost:8080/"
        },
        "id": "FGjxIOOgUKC0",
        "outputId": "4fec4822-7a7a-4377-d91f-90c5a76b3c55"
      },
      "execution_count": 16,
      "outputs": [
        {
          "output_type": "stream",
          "name": "stdout",
          "text": [
            "John's average grade: 85.00\n",
            "Emma's average grade: 87.50\n"
          ]
        }
      ]
    },
    {
      "cell_type": "code",
      "source": [
        "## 13.  Create a class Rectangle with methods set_dimensions() to set the dimensions and area() to calculate the area.\n",
        "\n",
        "class Rectangle:\n",
        "    def __init__(self):\n",
        "        self.length = 0\n",
        "        self.width = 0\n",
        "\n",
        "    def set_dimensions(self, length, width):\n",
        "        self.length = length\n",
        "        self.width = width\n",
        "\n",
        "    def area(self):\n",
        "        return self.length * self.width\n",
        "\n",
        "\n",
        "# Example usage\n",
        "rect = Rectangle()\n",
        "rect.set_dimensions(5, 3)\n",
        "print(f\"Area of rectangle: {rect.area()}\")  # Output: Area of rectangle: 15\n"
      ],
      "metadata": {
        "colab": {
          "base_uri": "https://localhost:8080/"
        },
        "id": "HpJ2EmCqU2NJ",
        "outputId": "39f89fbb-8b45-4fd1-b1d7-4eae5b6e3ad8"
      },
      "execution_count": 17,
      "outputs": [
        {
          "output_type": "stream",
          "name": "stdout",
          "text": [
            "Area of rectangle: 15\n"
          ]
        }
      ]
    },
    {
      "cell_type": "code",
      "source": [
        "## 14.  Create a class Employee with a method calculate_salary() that computes the salary based on hours worked and hourly rate. Create a derived class Manager that adds a bonus to the salary\n",
        "\n",
        "class Employee:\n",
        "    def __init__(self, name, hours_worked, hourly_rate):\n",
        "        self.name = name\n",
        "        self.hours_worked = hours_worked\n",
        "        self.hourly_rate = hourly_rate\n",
        "\n",
        "    def calculate_salary(self):\n",
        "        return self.hours_worked * self.hourly_rate\n",
        "\n",
        "\n",
        "class Manager(Employee):\n",
        "    def __init__(self, name, hours_worked, hourly_rate, bonus):\n",
        "        super().__init__(name, hours_worked, hourly_rate)\n",
        "        self.bonus = bonus\n",
        "\n",
        "    def calculate_salary(self):\n",
        "        base_salary = super().calculate_salary()\n",
        "        return base_salary + self.bonus\n",
        "\n",
        "\n",
        "# Example usage\n",
        "emp = Employee(\"Alice\", 40, 20)\n",
        "mgr = Manager(\"Bob\", 40, 30, 500)\n",
        "\n",
        "print(f\"{emp.name}'s Salary: ${emp.calculate_salary()}\")  # Output: Alice's Salary: $800\n",
        "print(f\"{mgr.name}'s Salary: ${mgr.calculate_salary()}\")  # Output: Bob's Salary: $1700\n"
      ],
      "metadata": {
        "colab": {
          "base_uri": "https://localhost:8080/"
        },
        "id": "lTKXWAGbVB2_",
        "outputId": "4d9cad0c-0df5-46ac-a01f-cc39b93d9c42"
      },
      "execution_count": 18,
      "outputs": [
        {
          "output_type": "stream",
          "name": "stdout",
          "text": [
            "Alice's Salary: $800\n",
            "Bob's Salary: $1700\n"
          ]
        }
      ]
    },
    {
      "cell_type": "code",
      "source": [
        "## 15.  Create a class Product with attributes name, price, and quantity. Implement a method total_price() that calculates the total price of the product.\n",
        "\n",
        "class Product:\n",
        "    def __init__(self, name, price, quantity):\n",
        "        self.name = name\n",
        "        self.price = price\n",
        "        self.quantity = quantity\n",
        "\n",
        "    def total_price(self):\n",
        "        return self.price * self.quantity\n",
        "\n",
        "\n",
        "# Example usage\n",
        "product1 = Product(\"Laptop\", 800, 3)\n",
        "product2 = Product(\"Phone\", 500, 5)\n",
        "\n",
        "print(f\"Total price of {product1.name}: ${product1.total_price()}\")\n",
        "print(f\"Total price of {product2.name}: ${product2.total_price()}\")\n",
        "\n",
        "\n",
        "\n"
      ],
      "metadata": {
        "colab": {
          "base_uri": "https://localhost:8080/"
        },
        "id": "48tlB4O8VRMt",
        "outputId": "1d209853-59d8-4fa5-b18d-1fbca0e66023"
      },
      "execution_count": 19,
      "outputs": [
        {
          "output_type": "stream",
          "name": "stdout",
          "text": [
            "Total price of Laptop: $2400\n",
            "Total price of Phone: $2500\n"
          ]
        }
      ]
    },
    {
      "cell_type": "code",
      "source": [
        "## 16. Create a class Animal with an abstract method sound(). Create two derived classes Cow and Sheep that implement the sound() method.\n",
        "\n",
        "from abc import ABC, abstractmethod\n",
        "\n",
        "class Animal(ABC):\n",
        "    @abstractmethod\n",
        "    def sound(self):\n",
        "        pass\n",
        "\n",
        "class Cow(Animal):\n",
        "    def sound(self):\n",
        "        return \"Moo\"\n",
        "\n",
        "class Sheep(Animal):\n",
        "    def sound(self):\n",
        "        return \"Baa\"\n",
        "\n",
        "# Example usage\n",
        "animals = [Cow(), Sheep()]\n",
        "\n",
        "for animal in animals:\n",
        "    print(f\"{animal.__class__.__name__} says: {animal.sound()}\")\n"
      ],
      "metadata": {
        "colab": {
          "base_uri": "https://localhost:8080/"
        },
        "id": "tZrFhiE9Vclx",
        "outputId": "c7c29a55-f398-4cf7-d8fe-a9a69d6baa6e"
      },
      "execution_count": 20,
      "outputs": [
        {
          "output_type": "stream",
          "name": "stdout",
          "text": [
            "Cow says: Moo\n",
            "Sheep says: Baa\n"
          ]
        }
      ]
    },
    {
      "cell_type": "code",
      "source": [
        "## 17. Create a class Book with attributes title, author, and year_published. Add a method get_book_info() that returns a formatted string with the book's details.\n",
        "\n",
        "class Book:\n",
        "    def __init__(self, title, author, year_published):\n",
        "        self.title = title\n",
        "        self.author = author\n",
        "        self.year_published = year_published\n",
        "\n",
        "    def get_book_info(self):\n",
        "        return f\"'{self.title}' by {self.author}, published in {self.year_published}\"\n",
        "\n",
        "\n",
        "# Example usage\n",
        "book1 = Book(\"To Kill a Mockingbird\", \"Harper Lee\", 1960)\n",
        "book2 = Book(\"1984\", \"George Orwell\", 1949)\n",
        "\n",
        "print(book1.get_book_info())  # Output: 'To Kill a Mockingbird' by Harper Lee, published in 1960\n",
        "print(book2.get_book_info())  # Output: '1984' by George Orwell, published in 1949\n"
      ],
      "metadata": {
        "colab": {
          "base_uri": "https://localhost:8080/"
        },
        "id": "qdiYoIByVnvY",
        "outputId": "ccbe1f1c-8ef0-4c79-b6c3-a1e9be16b26f"
      },
      "execution_count": 21,
      "outputs": [
        {
          "output_type": "stream",
          "name": "stdout",
          "text": [
            "'To Kill a Mockingbird' by Harper Lee, published in 1960\n",
            "'1984' by George Orwell, published in 1949\n"
          ]
        }
      ]
    },
    {
      "cell_type": "code",
      "source": [
        "## 18. Create a class House with attributes address and price. Create a derived class Mansion that adds an attribute number_of_rooms.\n",
        "\n",
        "class House:\n",
        "    def __init__(self, address, price):\n",
        "        self.address = address\n",
        "        self.price = price\n",
        "\n",
        "    def display_info(self):\n",
        "        return f\"Address: {self.address}, Price: ${self.price}\"\n",
        "\n",
        "class Mansion(House):\n",
        "    def __init__(self, address, price, number_of_rooms):\n",
        "        super().__init__(address, price)\n",
        "        self.number_of_rooms = number_of_rooms\n",
        "\n",
        "    def display_info(self):\n",
        "        base_info = super().display_info()\n",
        "        return f\"{base_info}, Number of rooms: {self.number_of_rooms}\"\n",
        "\n",
        "\n",
        "# Example usage\n",
        "house = House(\"123 Maple St\", 250000)\n",
        "mansion = Mansion(\"789 Oak Ave\", 1500000, 10)\n",
        "\n",
        "print(house.display_info())    # Output: Address: 123 Maple St, Price: $250000\n",
        "print(mansion.display_info())  # Output: Address: 789 Oak Ave, Price: $1500000, Number of rooms: 10\n"
      ],
      "metadata": {
        "colab": {
          "base_uri": "https://localhost:8080/"
        },
        "id": "qtuenprMVx3a",
        "outputId": "0567f26d-15ff-4f7b-9880-8f7d0ae804d5"
      },
      "execution_count": 22,
      "outputs": [
        {
          "output_type": "stream",
          "name": "stdout",
          "text": [
            "Address: 123 Maple St, Price: $250000\n",
            "Address: 789 Oak Ave, Price: $1500000, Number of rooms: 10\n"
          ]
        }
      ]
    },
    {
      "cell_type": "code",
      "source": [],
      "metadata": {
        "id": "Tsfufyr4V8d8"
      },
      "execution_count": null,
      "outputs": []
    }
  ]
}